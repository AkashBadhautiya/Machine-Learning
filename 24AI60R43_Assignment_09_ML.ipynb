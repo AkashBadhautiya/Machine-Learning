{
  "nbformat": 4,
  "nbformat_minor": 0,
  "metadata": {
    "colab": {
      "provenance": []
    },
    "kernelspec": {
      "name": "python3",
      "display_name": "Python 3"
    },
    "language_info": {
      "name": "python"
    }
  },
  "cells": [
    {
      "cell_type": "markdown",
      "source": [
        "#**Name: Akash Badhautiya**\n",
        "\n",
        "**Roll Number: 24AI60R43**"
      ],
      "metadata": {
        "id": "CtWlbM8uVcYB"
      }
    },
    {
      "cell_type": "markdown",
      "source": [
        "Task1:"
      ],
      "metadata": {
        "id": "Ae2ebVG2XUvC"
      }
    },
    {
      "cell_type": "markdown",
      "source": [
        "Load and preprocess the UCI [Vehicle silhouettes](https://archive.ics.uci.edu/dataset/149/statlog+vehicle+silhouettes) - there are 18 features in this dataset"
      ],
      "metadata": {
        "id": "nUel4aMDWE9_"
      }
    },
    {
      "cell_type": "code",
      "source": [
        "pip install ucimlrepo"
      ],
      "metadata": {
        "colab": {
          "base_uri": "https://localhost:8080/"
        },
        "id": "q7RjvOkRV8ol",
        "outputId": "bb0265dc-681d-41bc-a961-76689a8e0340"
      },
      "execution_count": 1,
      "outputs": [
        {
          "output_type": "stream",
          "name": "stdout",
          "text": [
            "Collecting ucimlrepo\n",
            "  Downloading ucimlrepo-0.0.7-py3-none-any.whl.metadata (5.5 kB)\n",
            "Requirement already satisfied: pandas>=1.0.0 in /usr/local/lib/python3.10/dist-packages (from ucimlrepo) (2.2.2)\n",
            "Requirement already satisfied: certifi>=2020.12.5 in /usr/local/lib/python3.10/dist-packages (from ucimlrepo) (2024.8.30)\n",
            "Requirement already satisfied: numpy>=1.22.4 in /usr/local/lib/python3.10/dist-packages (from pandas>=1.0.0->ucimlrepo) (1.26.4)\n",
            "Requirement already satisfied: python-dateutil>=2.8.2 in /usr/local/lib/python3.10/dist-packages (from pandas>=1.0.0->ucimlrepo) (2.8.2)\n",
            "Requirement already satisfied: pytz>=2020.1 in /usr/local/lib/python3.10/dist-packages (from pandas>=1.0.0->ucimlrepo) (2024.2)\n",
            "Requirement already satisfied: tzdata>=2022.7 in /usr/local/lib/python3.10/dist-packages (from pandas>=1.0.0->ucimlrepo) (2024.2)\n",
            "Requirement already satisfied: six>=1.5 in /usr/local/lib/python3.10/dist-packages (from python-dateutil>=2.8.2->pandas>=1.0.0->ucimlrepo) (1.16.0)\n",
            "Downloading ucimlrepo-0.0.7-py3-none-any.whl (8.0 kB)\n",
            "Installing collected packages: ucimlrepo\n",
            "Successfully installed ucimlrepo-0.0.7\n"
          ]
        }
      ]
    },
    {
      "cell_type": "code",
      "source": [
        "import numpy as np\n",
        "import pandas as pd\n",
        "from sklearn.model_selection import train_test_split\n",
        "from sklearn.cluster import AgglomerativeClustering\n",
        "from scipy.cluster.hierarchy import dendrogram, linkage\n",
        "import matplotlib.pyplot as plt\n",
        "from scipy.spatial.distance import cdist\n",
        "from ucimlrepo import fetch_ucirepo\n"
      ],
      "metadata": {
        "id": "1TRRkr5mYLhf"
      },
      "execution_count": 3,
      "outputs": []
    },
    {
      "cell_type": "code",
      "source": [
        "from ucimlrepo import fetch_ucirepo\n",
        "\n",
        "# fetch dataset\n",
        "statlog_vehicle_silhouettes = fetch_ucirepo(id=149)\n",
        "\n",
        "# data (as pandas dataframes)\n",
        "X = statlog_vehicle_silhouettes.data.features\n",
        "y = statlog_vehicle_silhouettes.data.targets\n",
        "\n",
        "# metadata\n",
        "print(statlog_vehicle_silhouettes.metadata)\n",
        "\n",
        "# variable information\n",
        "print(statlog_vehicle_silhouettes.variables)\n"
      ],
      "metadata": {
        "colab": {
          "base_uri": "https://localhost:8080/"
        },
        "id": "BqiMbmAyVkvA",
        "outputId": "adc6ee68-b4a5-43be-c04c-d882b8be3061"
      },
      "execution_count": 2,
      "outputs": [
        {
          "output_type": "stream",
          "name": "stdout",
          "text": [
            "{'uci_id': 149, 'name': 'Statlog (Vehicle Silhouettes)', 'repository_url': 'https://archive.ics.uci.edu/dataset/149/statlog+vehicle+silhouettes', 'data_url': 'https://archive.ics.uci.edu/static/public/149/data.csv', 'abstract': '3D objects within a 2D image by application of an ensemble of shape feature extractors to the 2D silhouettes of the objects.', 'area': 'Other', 'tasks': ['Classification'], 'characteristics': ['Multivariate'], 'num_instances': 946, 'num_features': 18, 'feature_types': ['Integer'], 'demographics': [], 'target_col': ['class'], 'index_col': None, 'has_missing_values': 'no', 'missing_values_symbol': None, 'year_of_dataset_creation': None, 'last_updated': 'Fri Feb 16 2024', 'dataset_doi': '10.24432/C5HG6N', 'creators': ['Pete Mowforth', 'Barry Shepherd'], 'intro_paper': {'ID': 393, 'type': 'NATIVE', 'title': 'Vehicle Recognition Using Rule Based Methods', 'authors': 'J. Siebert', 'venue': 'Turing Institute', 'year': 1987, 'journal': None, 'DOI': None, 'URL': 'https://www.semanticscholar.org/paper/Vehicle-Recognition-Using-Rule-Based-Methods-Siebert/79f058f5890760223f2298a6c512af63a2bc251b', 'sha': None, 'corpus': None, 'arxiv': None, 'mag': None, 'acl': None, 'pmid': None, 'pmcid': None}, 'additional_info': {'summary': 'The purpose is to classify a given silhouette as one of four types of vehicle, using  a set of features extracted from the silhouette. The vehicle may be viewed from one of many different angles.  \\r\\n\\r\\nHISTORY:\\r\\n\\r\\nThis data was originally gathered at the TI in 1986-87 by JP Siebert. It was partially financed by Barr and Stroud Ltd. The original purpose was to find a method of distinguishing 3D objects within a 2D image by application of an ensemble of shape feature extractors to the 2D silhouettes of the objects. Measures of shape features extracted from example silhouettes of objects to be discriminated were used to generate a classification rule tree by means of computer induction.\\r\\n\\r\\nThis object recognition strategy was successfully used to discriminate between silhouettes of model cars, vans and buses viewed from constrained elevation but all angles of rotation.\\r\\n\\r\\nThe rule tree classification performance compared favourably to MDC (Minimum Distance Classifier) and k-NN (k-Nearest Neighbour) statistical classifiers in terms of both error rate and computational efficiency. An investigation of these rule trees generated by example indicated that the tree structure was heavily influenced by the orientation of the objects, and grouped similar object views into single decisions.\\r\\n\\r\\n\\r\\nDESCRIPTION:\\r\\n\\r\\nThe features were extracted from the silhouettes by the HIPS (Hierarchical Image Processing System) extension BINATTS, which extracts a combination of scale independent features utilising both classical moments based measures such as scaled variance, skewness and kurtosis about the major/minor axes and heuristic measures such as hollows, circularity, rectangularity and compactness.\\r\\n\\r\\nFour \"Corgie\" model vehicles were used for the experiment: a double decker bus, Cheverolet van, Saab 9000 and an Opel Manta 400. This particular combination of vehicles was chosen with the expectation that the bus, van and either one of the cars would be readily distinguishable, but it would be more difficult to distinguish between the cars.\\r\\n\\r\\nThe images were acquired by a camera looking downwards at the model vehicle from a fixed angle of elevation (34.2 degrees to the horizontal). The vehicles were placed on a diffuse backlit surface (lightbox). The vehicles were painted matte black to minimise highlights. The images were captured using a CRS4000 framestore connected to a vax 750. All images were captured with a spatial resolution of 128x128 pixels quantised to 64 greylevels. These images were thresholded to produce binary vehicle silhouettes, negated (to comply with the processing requirements of BINATTS) and thereafter subjected to shrink-expand-expand-shrink HIPS modules to remove \"salt and pepper\" image noise.\\r\\n\\r\\nThe vehicles were rotated and their angle of orientation was measured using a radial graticule beneath the vehicle. 0 and 180 degrees corresponded to \"head on\" and \"rear\" views respectively while 90 and 270 corresponded to profiles in opposite directions. Two sets of 60 images, each set covering a full 360 degree rotation, were captured for each vehicle. The vehicle was rotated by a fixed angle between images. These datasets are known as e2 and e3 respectively.\\r\\n\\r\\n A further two sets of images, e4 and e5, were captured with the camera at elevations of 37.5 degs and 30.8 degs respectively. These sets also contain 60 images per vehicle apart from e4.van which contains only 46 owing to the difficulty of containing the van in the image at some orientations.\\r\\n', 'purpose': None, 'funded_by': None, 'instances_represent': None, 'recommended_data_splits': None, 'sensitive_data': None, 'preprocessing_description': None, 'variable_info': 'ATTRIBUTES\\r\\n\\t\\r\\n\\tCOMPACTNESS\\t(average perim)**2/area\\r\\n\\t\\r\\n\\tCIRCULARITY\\t(average radius)**2/area\\r\\n\\t\\r\\n\\tDISTANCE CIRCULARITY\\tarea/(av.distance from border)**2\\r\\n\\t\\r\\n\\tRADIUS RATIO\\t(max.rad-min.rad)/av.radius\\r\\n\\t\\r\\n\\tPR.AXIS ASPECT RATIO\\t(minor axis)/(major axis)\\r\\n\\t\\r\\n\\tMAX.LENGTH ASPECT RATIO\\t(length perp. max length)/(max length)\\r\\n\\t\\r\\n\\tSCATTER RATIO\\t(inertia about minor axis)/(inertia about major axis)\\r\\n\\t\\r\\n\\tELONGATEDNESS\\t\\tarea/(shrink width)**2\\r\\n\\t\\r\\n\\tPR.AXIS RECTANGULARITY\\tarea/(pr.axis length*pr.axis width)\\r\\n\\t\\r\\n\\tMAX.LENGTH RECTANGULARITY area/(max.length*length perp. to this)\\r\\n\\t\\r\\n\\tSCALED VARIANCE \\t(2nd order moment about minor axis)/area\\r\\n\\tALONG MAJOR AXIS\\r\\n\\t\\r\\n\\tSCALED VARIANCE \\t(2nd order moment about major axis)/area\\r\\n\\tALONG MINOR AXIS \\r\\n\\t\\r\\n\\tSCALED RADIUS OF GYRATION\\t(mavar+mivar)/area\\r\\n\\t\\r\\n\\tSKEWNESS ABOUT \\t(3rd order moment about major axis)/sigma_min**3\\r\\n\\tMAJOR AXIS\\r\\n\\t\\r\\n\\tSKEWNESS ABOUT \\t(3rd order moment about minor axis)/sigma_maj**3\\r\\n\\tMINOR AXIS\\r\\n\\t  \\t\\r\\n\\tKURTOSIS ABOUT \\t(4th order moment about major axis)/sigma_min**4\\r\\n\\tMINOR AXIS  \\r\\n\\t  \\t\\r\\n\\tKURTOSIS ABOUT \\t(4th order moment about minor axis)/sigma_maj**4\\r\\n\\tMAJOR AXIS\\r\\n\\t\\r\\n\\tHOLLOWS RATIO\\t(area of hollows)/(area of bounding polygon)\\r\\n\\t\\r\\n\\t Where sigma_maj**2 is the variance along the major axis and sigma_min**2 is the variance along the minor axis, and\\r\\n\\t\\r\\n\\tarea of hollows= area of bounding poly-area of object \\r\\n\\t\\r\\n\\t The area of the bounding polygon is found as a side result of the computation to find the maximum length. Each individual length computation yields a pair of calipers to the object orientated at every 5 degrees. The object is propagated into an image containing the union of these calipers to obtain an image of the bounding polygon. \\r\\n\\t\\r\\nNUMBER OF CLASSES\\r\\n\\r\\n\\t4\\tOPEL, SAAB, BUS, VAN\\r\\n', 'citation': None}}\n",
            "                                name     role         type demographic  \\\n",
            "0                        COMPACTNESS  Feature      Integer        None   \n",
            "1                        CIRCULARITY  Feature      Integer        None   \n",
            "2               DISTANCE CIRCULARITY  Feature      Integer        None   \n",
            "3                       RADIUS RATIO  Feature      Integer        None   \n",
            "4               PR.AXIS ASPECT RATIO  Feature      Integer        None   \n",
            "5            MAX.LENGTH ASPECT RATIO  Feature      Integer        None   \n",
            "6                      SCATTER RATIO  Feature      Integer        None   \n",
            "7                      ELONGATEDNESS  Feature      Integer        None   \n",
            "8             PR.AXIS RECTANGULARITY  Feature      Integer        None   \n",
            "9          MAX.LENGTH RECTANGULARITY  Feature      Integer        None   \n",
            "10  SCALED VARIANCE ALONG MAJOR AXIS  Feature      Integer        None   \n",
            "11  SCALED VARIANCE ALONG MINOR AXIS  Feature      Integer        None   \n",
            "12         SCALED RADIUS OF GYRATION  Feature      Integer        None   \n",
            "13         SKEWNESS ABOUT MAJOR AXIS  Feature      Integer        None   \n",
            "14         SKEWNESS ABOUT MINOR AXIS  Feature      Integer        None   \n",
            "15         KURTOSIS ABOUT MINOR AXIS  Feature      Integer        None   \n",
            "16         KURTOSIS ABOUT MAJOR AXIS  Feature      Integer        None   \n",
            "17                     HOLLOWS RATIO  Feature      Integer        None   \n",
            "18                             class   Target  Categorical        None   \n",
            "\n",
            "   description units missing_values  \n",
            "0         None  None             no  \n",
            "1         None  None             no  \n",
            "2         None  None             no  \n",
            "3         None  None             no  \n",
            "4         None  None             no  \n",
            "5         None  None             no  \n",
            "6         None  None             no  \n",
            "7         None  None             no  \n",
            "8         None  None             no  \n",
            "9         None  None             no  \n",
            "10        None  None             no  \n",
            "11        None  None             no  \n",
            "12        None  None             no  \n",
            "13        None  None             no  \n",
            "14        None  None             no  \n",
            "15        None  None             no  \n",
            "16        None  None             no  \n",
            "17        None  None             no  \n",
            "18        None  None             no  \n"
          ]
        }
      ]
    },
    {
      "cell_type": "markdown",
      "source": [
        "Task 2: Handle Duplicates and Missing Values, Split Dataset\n",
        "\n",
        "1.Check for duplicates and handle them.\n",
        "\n",
        "2.Check for missing values.\n",
        "\n",
        "3.Partition the data into training and test sets (80%-20%)."
      ],
      "metadata": {
        "id": "k7mXpeDuYTb8"
      }
    },
    {
      "cell_type": "code",
      "source": [
        "# Check and remove duplicates\n",
        "X = X.drop_duplicates()\n",
        "print(\"Shape after removing duplicates:\", X.shape)\n",
        "\n",
        "# Check for missing values\n",
        "missing_values = X.isnull().sum()\n",
        "print(\"Missing values per column:\\n\", missing_values)\n",
        "\n",
        "# Fill missing values or drop rows (based on data characteristics)\n",
        "# Example: Filling missing values with mean\n",
        "X.fillna(X.mean(), inplace=True)\n",
        "\n",
        "# Split the dataset\n",
        "X_train, X_test, y_train, y_test = train_test_split(X, y, test_size=0.2, random_state=42)\n"
      ],
      "metadata": {
        "colab": {
          "base_uri": "https://localhost:8080/"
        },
        "id": "fxE9l_XzYT9f",
        "outputId": "4dda99a9-b9bd-42df-d322-81ef9ef7899f"
      },
      "execution_count": 4,
      "outputs": [
        {
          "output_type": "stream",
          "name": "stdout",
          "text": [
            "Shape after removing duplicates: (846, 18)\n",
            "Missing values per column:\n",
            " COMPACTNESS                         1\n",
            "CIRCULARITY                         0\n",
            "DISTANCE CIRCULARITY                0\n",
            "RADIUS RATIO                        0\n",
            "PR.AXIS ASPECT RATIO                0\n",
            "MAX.LENGTH ASPECT RATIO             0\n",
            "SCATTER RATIO                       0\n",
            "ELONGATEDNESS                       0\n",
            "PR.AXIS RECTANGULARITY              0\n",
            "MAX.LENGTH RECTANGULARITY           0\n",
            "SCALED VARIANCE ALONG MAJOR AXIS    0\n",
            "SCALED VARIANCE ALONG MINOR AXIS    0\n",
            "SCALED RADIUS OF GYRATION           0\n",
            "SKEWNESS ABOUT MAJOR AXIS           0\n",
            "SKEWNESS ABOUT MINOR AXIS           0\n",
            "KURTOSIS ABOUT MINOR AXIS           0\n",
            "KURTOSIS ABOUT MAJOR AXIS           0\n",
            "HOLLOWS RATIO                       0\n",
            "dtype: int64\n"
          ]
        }
      ]
    },
    {
      "cell_type": "markdown",
      "source": [
        "Task 3: Implement HAC from Scratch"
      ],
      "metadata": {
        "id": "oP20Sk8UYhsu"
      }
    },
    {
      "cell_type": "code",
      "source": [
        "def hac_from_scratch(X, num_clusters=4):\n",
        "    clusters = {i: [x] for i, x in enumerate(X)}\n",
        "    while len(clusters) > num_clusters:\n",
        "        min_dist = float('inf')\n",
        "        to_merge = (None, None)\n",
        "\n",
        "        cluster_ids = list(clusters.keys())\n",
        "        for i in range(len(cluster_ids)):\n",
        "            for j in range(i + 1, len(cluster_ids)):\n",
        "                ci, cj = cluster_ids[i], cluster_ids[j]\n",
        "                dist = cdist(clusters[ci], clusters[cj], metric='euclidean').mean()\n",
        "\n",
        "                if dist < min_dist:\n",
        "                    min_dist = dist\n",
        "                    to_merge = (ci, cj)\n",
        "\n",
        "        # Merge closest clusters\n",
        "        ci, cj = to_merge\n",
        "        clusters[ci].extend(clusters[cj])\n",
        "        del clusters[cj]\n",
        "\n",
        "    # Assign labels to clusters\n",
        "    labels = np.zeros(len(X), dtype=int)\n",
        "    for label, points in clusters.items():\n",
        "        for point in points:\n",
        "            idx = np.where((X == point).all(axis=1))[0]\n",
        "            labels[idx] = label\n",
        "\n",
        "    return labels\n",
        "\n",
        "# Perform HAC from scratch\n",
        "custom_labels = hac_from_scratch(X_train.to_numpy())\n"
      ],
      "metadata": {
        "id": "lsJs93ByYil-"
      },
      "execution_count": 5,
      "outputs": []
    },
    {
      "cell_type": "markdown",
      "source": [
        "Task 4: Clustering Using sklearn's HAC Implementation"
      ],
      "metadata": {
        "id": "WRC2rKMRYye5"
      }
    },
    {
      "cell_type": "code",
      "source": [
        "# sklearn's HAC implementation\n",
        "sklearn_hac = AgglomerativeClustering(n_clusters=4, linkage='average') # Remove affinity argument\n",
        "sklearn_labels = sklearn_hac.fit_predict(X_train)"
      ],
      "metadata": {
        "id": "YJVHuNZ8b-_P"
      },
      "execution_count": 8,
      "outputs": []
    },
    {
      "cell_type": "markdown",
      "source": [
        "Task 5: Generate the Dendrogram"
      ],
      "metadata": {
        "id": "eyBVLYvaaulw"
      }
    },
    {
      "cell_type": "code",
      "source": [
        "# Generate linkage matrix for dendrogram\n",
        "Z = linkage(X_train, method='average', metric='euclidean')\n",
        "\n",
        "# Plot dendrogram\n",
        "plt.figure(figsize=(10, 7))\n",
        "dendrogram(Z)\n",
        "plt.title(\"Dendrogram for HAC\")\n",
        "plt.xlabel(\"Sample Index\")\n",
        "plt.ylabel(\"Distance\")\n",
        "plt.show()\n"
      ],
      "metadata": {
        "colab": {
          "base_uri": "https://localhost:8080/",
          "height": 641
        },
        "id": "y4JpbJ5vY3k4",
        "outputId": "2a34f0ef-c271-4203-e398-5035fd16e568"
      },
      "execution_count": 9,
      "outputs": [
        {
          "output_type": "display_data",
          "data": {
            "text/plain": [
              "<Figure size 1000x700 with 1 Axes>"
            ],
            "image/png": "[encoded data removed]"
          },
          "metadata": {}
        }
      ]
    },
    {
      "cell_type": "markdown",
      "source": [
        "Task 6: Consistent Labeling"
      ],
      "metadata": {
        "id": "iY7DSa-Daytj"
      }
    },
    {
      "cell_type": "code",
      "source": [
        "def sort_clusters_by_centroid(X, labels):\n",
        "    unique_labels = np.unique(labels)\n",
        "    centroids = [X[labels == label].mean(axis=0) for label in unique_labels]\n",
        "    sorted_labels = np.argsort([np.linalg.norm(centroid) for centroid in centroids])\n",
        "\n",
        "    # Create a label map that handles missing keys\n",
        "    label_map = {original_label: i for i, original_label in enumerate(unique_labels[sorted_labels])}\n",
        "\n",
        "    # Use a lambda function to handle missing keys and avoid None values\n",
        "    standardized_labels = np.vectorize(lambda x: label_map.get(x, -1))(labels)\n",
        "\n",
        "    return standardized_labels\n",
        "# Standardize labels\n",
        "custom_labels_sorted = sort_clusters_by_centroid(X_train.to_numpy(), custom_labels)\n",
        "sklearn_labels_sorted = sort_clusters_by_centroid(X_train.to_numpy(), sklearn_labels)"
      ],
      "metadata": {
        "id": "sSvJIgZAcbup"
      },
      "execution_count": 13,
      "outputs": []
    },
    {
      "cell_type": "markdown",
      "source": [
        "Task 7: Compare Label Consistency"
      ],
      "metadata": {
        "id": "toBREXT8a5Tj"
      }
    },
    {
      "cell_type": "code",
      "source": [
        "# Calculate percentage of matching labels\n",
        "match_percentage = (custom_labels_sorted == sklearn_labels_sorted).mean() * 100\n",
        "print(f\"Percentage of matching labels: {match_percentage:.2f}%\")\n"
      ],
      "metadata": {
        "colab": {
          "base_uri": "https://localhost:8080/"
        },
        "id": "fz327f8Za6CB",
        "outputId": "7e5d073e-9828-4f61-ac33-e27ef8f0a19a"
      },
      "execution_count": 14,
      "outputs": [
        {
          "output_type": "stream",
          "name": "stdout",
          "text": [
            "Percentage of matching labels: 100.00%\n"
          ]
        }
      ]
    },
    {
      "cell_type": "markdown",
      "source": [
        "Task 8: Report Cluster Consistency with Ground Truth Labels"
      ],
      "metadata": {
        "id": "pVZoFcdma9vX"
      }
    },
    {
      "cell_type": "code",
      "source": [
        "def report_cluster_consistency(X, y, labels):\n",
        "    cluster_consistency = {}\n",
        "    for label in np.unique(labels):\n",
        "        cluster_indices = np.where(labels == label)[0]\n",
        "        cluster_labels = y.iloc[cluster_indices]\n",
        "        class_counts = cluster_labels.value_counts(normalize=True)\n",
        "        cluster_consistency[label] = class_counts.to_dict()\n",
        "    return cluster_consistency\n",
        "\n",
        "# Consistency for custom implementation\n",
        "custom_consistency = report_cluster_consistency(X_train, y_train, custom_labels_sorted)\n",
        "print(\"Cluster consistency for custom HAC implementation:\", custom_consistency)\n",
        "\n",
        "# Consistency for sklearn implementation\n",
        "sklearn_consistency = report_cluster_consistency(X_train, y_train, sklearn_labels_sorted)\n",
        "print(\"Cluster consistency for sklearn HAC implementation:\", sklearn_consistency)\n"
      ],
      "metadata": {
        "colab": {
          "base_uri": "https://localhost:8080/"
        },
        "id": "sK71tHp_a-2h",
        "outputId": "18bd88d9-4c9a-4651-d617-abe6fdc89e71"
      },
      "execution_count": 15,
      "outputs": [
        {
          "output_type": "stream",
          "name": "stdout",
          "text": [
            "Cluster consistency for custom HAC implementation: {0: {('van',): 0.37149532710280375, ('bus',): 0.2827102803738318, ('opel',): 0.1822429906542056, ('saab',): 0.16355140186915887}, 1: {('204',): 1.0}, 2: {('opel',): 0.4482758620689655, ('saab',): 0.4267241379310345, ('bus',): 0.125}, 3: {('bus',): 1.0}}\n",
            "Cluster consistency for sklearn HAC implementation: {0: {('van',): 0.37149532710280375, ('bus',): 0.2827102803738318, ('opel',): 0.1822429906542056, ('saab',): 0.16355140186915887}, 1: {('204',): 1.0}, 2: {('opel',): 0.4482758620689655, ('saab',): 0.4267241379310345, ('bus',): 0.125}, 3: {('bus',): 1.0}}\n"
          ]
        }
      ]
    },
    {
      "cell_type": "code",
      "source": [],
      "metadata": {
        "id": "ov7s1RJdgcv6"
      },
      "execution_count": null,
      "outputs": []
    }
  ]
}